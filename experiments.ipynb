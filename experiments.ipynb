{
 "cells": [
  {
   "cell_type": "code",
   "execution_count": 4,
   "metadata": {},
   "outputs": [],
   "source": [
    "import pandas as pd\n",
    "from pathlib import Path"
   ]
  },
  {
   "cell_type": "code",
   "execution_count": 5,
   "metadata": {},
   "outputs": [],
   "source": [
    "train_path = Path(\"./ML Engineer/train.csv\")\n",
    "test_path = Path(\"./ML Engineer/test.csv\")\n",
    "submission_path = Path(\"./ML Engineer/sample_submission.csv\")"
   ]
  },
  {
   "cell_type": "code",
   "execution_count": 6,
   "metadata": {},
   "outputs": [],
   "source": [
    "train_data = pd.read_csv(train_path)\n",
    "test_data = pd.read_csv(test_path)\n",
    "submission_data = pd.read_csv(submission_path)"
   ]
  },
  {
   "cell_type": "code",
   "execution_count": 7,
   "metadata": {},
   "outputs": [
    {
     "data": {
      "text/html": [
       "<div>\n",
       "<style scoped>\n",
       "    .dataframe tbody tr th:only-of-type {\n",
       "        vertical-align: middle;\n",
       "    }\n",
       "\n",
       "    .dataframe tbody tr th {\n",
       "        vertical-align: top;\n",
       "    }\n",
       "\n",
       "    .dataframe thead th {\n",
       "        text-align: right;\n",
       "    }\n",
       "</style>\n",
       "<table border=\"1\" class=\"dataframe\">\n",
       "  <thead>\n",
       "    <tr style=\"text-align: right;\">\n",
       "      <th></th>\n",
       "      <th>id_</th>\n",
       "      <th>source</th>\n",
       "      <th>email</th>\n",
       "      <th>class</th>\n",
       "    </tr>\n",
       "  </thead>\n",
       "  <tbody>\n",
       "    <tr>\n",
       "      <th>0</th>\n",
       "      <td>5732aa7f-0c44-4a4f-877a-0488aed0d1f7</td>\n",
       "      <td>2</td>\n",
       "      <td>Subject: is the supply rebound beginning ? an ...</td>\n",
       "      <td>not_spam</td>\n",
       "    </tr>\n",
       "    <tr>\n",
       "      <th>1</th>\n",
       "      <td>4d3c392d-a4f0-465d-baa3-2c15f1560f07</td>\n",
       "      <td>2</td>\n",
       "      <td>Subject: email list - 100 million addresses $ ...</td>\n",
       "      <td>spam</td>\n",
       "    </tr>\n",
       "    <tr>\n",
       "      <th>2</th>\n",
       "      <td>d47e95c0-4909-41b8-aec8-a3fb953fa18f</td>\n",
       "      <td>4</td>\n",
       "      <td>Subject: alley dodecahedra suicide\\nare you re...</td>\n",
       "      <td>spam</td>\n",
       "    </tr>\n",
       "    <tr>\n",
       "      <th>3</th>\n",
       "      <td>658a83eb-689c-480a-ae31-d622dc83f9f8</td>\n",
       "      <td>6</td>\n",
       "      <td>Subject: ibuyit project\\ni wanted to share som...</td>\n",
       "      <td>not_spam</td>\n",
       "    </tr>\n",
       "    <tr>\n",
       "      <th>4</th>\n",
       "      <td>179d10b7-1c43-4e10-a0be-18d205b0fe24</td>\n",
       "      <td>4</td>\n",
       "      <td>Subject: cheap vicodin online - us fda pharmac...</td>\n",
       "      <td>spam</td>\n",
       "    </tr>\n",
       "  </tbody>\n",
       "</table>\n",
       "</div>"
      ],
      "text/plain": [
       "                                    id_  source  \\\n",
       "0  5732aa7f-0c44-4a4f-877a-0488aed0d1f7       2   \n",
       "1  4d3c392d-a4f0-465d-baa3-2c15f1560f07       2   \n",
       "2  d47e95c0-4909-41b8-aec8-a3fb953fa18f       4   \n",
       "3  658a83eb-689c-480a-ae31-d622dc83f9f8       6   \n",
       "4  179d10b7-1c43-4e10-a0be-18d205b0fe24       4   \n",
       "\n",
       "                                               email     class  \n",
       "0  Subject: is the supply rebound beginning ? an ...  not_spam  \n",
       "1  Subject: email list - 100 million addresses $ ...      spam  \n",
       "2  Subject: alley dodecahedra suicide\\nare you re...      spam  \n",
       "3  Subject: ibuyit project\\ni wanted to share som...  not_spam  \n",
       "4  Subject: cheap vicodin online - us fda pharmac...      spam  "
      ]
     },
     "execution_count": 7,
     "metadata": {},
     "output_type": "execute_result"
    }
   ],
   "source": [
    "train_data.head()"
   ]
  },
  {
   "cell_type": "code",
   "execution_count": 8,
   "metadata": {},
   "outputs": [
    {
     "data": {
      "text/html": [
       "<div>\n",
       "<style scoped>\n",
       "    .dataframe tbody tr th:only-of-type {\n",
       "        vertical-align: middle;\n",
       "    }\n",
       "\n",
       "    .dataframe tbody tr th {\n",
       "        vertical-align: top;\n",
       "    }\n",
       "\n",
       "    .dataframe thead th {\n",
       "        text-align: right;\n",
       "    }\n",
       "</style>\n",
       "<table border=\"1\" class=\"dataframe\">\n",
       "  <thead>\n",
       "    <tr style=\"text-align: right;\">\n",
       "      <th></th>\n",
       "      <th>id_</th>\n",
       "      <th>source</th>\n",
       "      <th>email</th>\n",
       "    </tr>\n",
       "  </thead>\n",
       "  <tbody>\n",
       "    <tr>\n",
       "      <th>0</th>\n",
       "      <td>b4c16282-2934-49c9-ae12-99ad8ca3c960</td>\n",
       "      <td>5</td>\n",
       "      <td>Subject: get me thru july newsletter\\nthe get ...</td>\n",
       "    </tr>\n",
       "    <tr>\n",
       "      <th>1</th>\n",
       "      <td>cbe49c1c-b328-4716-9b78-9169c6111e80</td>\n",
       "      <td>4</td>\n",
       "      <td>Subject: looking for a good match to take out ...</td>\n",
       "    </tr>\n",
       "    <tr>\n",
       "      <th>2</th>\n",
       "      <td>0fa05eb2-f8cd-4cbf-b48e-bbc925b2baac</td>\n",
       "      <td>4</td>\n",
       "      <td>Subject: fw : besides our special pricing , yo...</td>\n",
       "    </tr>\n",
       "    <tr>\n",
       "      <th>3</th>\n",
       "      <td>b696569e-f7de-4771-9946-be5dd477b2f6</td>\n",
       "      <td>5</td>\n",
       "      <td>Subject: access to mary solmonson ' s e - mail...</td>\n",
       "    </tr>\n",
       "    <tr>\n",
       "      <th>4</th>\n",
       "      <td>d9bd17c0-28ec-43f2-b29a-2b9f25089a85</td>\n",
       "      <td>2</td>\n",
       "      <td>Subject: software should be easy to use !\\nsev...</td>\n",
       "    </tr>\n",
       "  </tbody>\n",
       "</table>\n",
       "</div>"
      ],
      "text/plain": [
       "                                    id_  source  \\\n",
       "0  b4c16282-2934-49c9-ae12-99ad8ca3c960       5   \n",
       "1  cbe49c1c-b328-4716-9b78-9169c6111e80       4   \n",
       "2  0fa05eb2-f8cd-4cbf-b48e-bbc925b2baac       4   \n",
       "3  b696569e-f7de-4771-9946-be5dd477b2f6       5   \n",
       "4  d9bd17c0-28ec-43f2-b29a-2b9f25089a85       2   \n",
       "\n",
       "                                               email  \n",
       "0  Subject: get me thru july newsletter\\nthe get ...  \n",
       "1  Subject: looking for a good match to take out ...  \n",
       "2  Subject: fw : besides our special pricing , yo...  \n",
       "3  Subject: access to mary solmonson ' s e - mail...  \n",
       "4  Subject: software should be easy to use !\\nsev...  "
      ]
     },
     "execution_count": 8,
     "metadata": {},
     "output_type": "execute_result"
    }
   ],
   "source": [
    "test_data.head()"
   ]
  },
  {
   "cell_type": "code",
   "execution_count": 9,
   "metadata": {},
   "outputs": [
    {
     "data": {
      "text/html": [
       "<div>\n",
       "<style scoped>\n",
       "    .dataframe tbody tr th:only-of-type {\n",
       "        vertical-align: middle;\n",
       "    }\n",
       "\n",
       "    .dataframe tbody tr th {\n",
       "        vertical-align: top;\n",
       "    }\n",
       "\n",
       "    .dataframe thead th {\n",
       "        text-align: right;\n",
       "    }\n",
       "</style>\n",
       "<table border=\"1\" class=\"dataframe\">\n",
       "  <thead>\n",
       "    <tr style=\"text-align: right;\">\n",
       "      <th></th>\n",
       "      <th>id_</th>\n",
       "      <th>class</th>\n",
       "    </tr>\n",
       "  </thead>\n",
       "  <tbody>\n",
       "    <tr>\n",
       "      <th>0</th>\n",
       "      <td>b4c16282-2934-49c9-ae12-99ad8ca3c960</td>\n",
       "      <td>not_spam</td>\n",
       "    </tr>\n",
       "    <tr>\n",
       "      <th>1</th>\n",
       "      <td>cbe49c1c-b328-4716-9b78-9169c6111e80</td>\n",
       "      <td>not_spam</td>\n",
       "    </tr>\n",
       "    <tr>\n",
       "      <th>2</th>\n",
       "      <td>0fa05eb2-f8cd-4cbf-b48e-bbc925b2baac</td>\n",
       "      <td>not_spam</td>\n",
       "    </tr>\n",
       "    <tr>\n",
       "      <th>3</th>\n",
       "      <td>b696569e-f7de-4771-9946-be5dd477b2f6</td>\n",
       "      <td>not_spam</td>\n",
       "    </tr>\n",
       "    <tr>\n",
       "      <th>4</th>\n",
       "      <td>d9bd17c0-28ec-43f2-b29a-2b9f25089a85</td>\n",
       "      <td>not_spam</td>\n",
       "    </tr>\n",
       "  </tbody>\n",
       "</table>\n",
       "</div>"
      ],
      "text/plain": [
       "                                    id_     class\n",
       "0  b4c16282-2934-49c9-ae12-99ad8ca3c960  not_spam\n",
       "1  cbe49c1c-b328-4716-9b78-9169c6111e80  not_spam\n",
       "2  0fa05eb2-f8cd-4cbf-b48e-bbc925b2baac  not_spam\n",
       "3  b696569e-f7de-4771-9946-be5dd477b2f6  not_spam\n",
       "4  d9bd17c0-28ec-43f2-b29a-2b9f25089a85  not_spam"
      ]
     },
     "execution_count": 9,
     "metadata": {},
     "output_type": "execute_result"
    }
   ],
   "source": [
    "submission_data.head()"
   ]
  },
  {
   "cell_type": "markdown",
   "metadata": {},
   "source": [
    "## Explaratory Data Analysis"
   ]
  },
  {
   "cell_type": "code",
   "execution_count": 11,
   "metadata": {},
   "outputs": [
    {
     "name": "stdout",
     "output_type": "stream",
     "text": [
      "Train data shape: (15000, 4)\n",
      "Test data shape: (13544, 3)\n",
      "submission data shape: (13544, 2)\n"
     ]
    }
   ],
   "source": [
    "print(f\"Train data shape: {train_data.shape}\\n\"\\\n",
    "      f\"Test data shape: {test_data.shape}\\n\"\\\n",
    "      f\"submission data shape: {submission_data.shape}\")"
   ]
  },
  {
   "cell_type": "code",
   "execution_count": null,
   "metadata": {},
   "outputs": [],
   "source": []
  }
 ],
 "metadata": {
  "kernelspec": {
   "display_name": "venv",
   "language": "python",
   "name": "python3"
  },
  "language_info": {
   "codemirror_mode": {
    "name": "ipython",
    "version": 3
   },
   "file_extension": ".py",
   "mimetype": "text/x-python",
   "name": "python",
   "nbconvert_exporter": "python",
   "pygments_lexer": "ipython3",
   "version": "3.12.3"
  }
 },
 "nbformat": 4,
 "nbformat_minor": 2
}
